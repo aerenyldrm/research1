{
 "cells": [
  {
   "cell_type": "code",
   "execution_count": null,
   "id": "fe1a2c8a-72c8-4b53-a6a2-339780a7ffa4",
   "metadata": {},
   "outputs": [],
   "source": []
  }
 ],
 "metadata": {
  "kernelspec": {
   "display_name": "Python (VE1)",
   "language": "python",
   "name": "ve1"
  },
  "language_info": {
   "codemirror_mode": {
    "name": "ipython",
    "version": 3
   },
   "file_extension": ".py",
   "mimetype": "text/x-python",
   "name": "python",
   "nbconvert_exporter": "python",
   "pygments_lexer": "ipython3",
   "version": "3.11.9"
  }
 },
 "nbformat": 4,
 "nbformat_minor": 5
}
